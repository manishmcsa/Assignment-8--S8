{
  "nbformat": 4,
  "nbformat_minor": 0,
  "metadata": {
    "colab": {
      "name": "config.ipynb",
      "provenance": [],
      "collapsed_sections": [],
      "authorship_tag": "ABX9TyNCysdERMFSLtwjp1fRcaUK",
      "include_colab_link": true
    },
    "kernelspec": {
      "name": "python3",
      "display_name": "Python 3"
    }
  },
  "cells": [
    {
      "cell_type": "markdown",
      "metadata": {
        "id": "view-in-github",
        "colab_type": "text"
      },
      "source": [
        "<a href=\"https://colab.research.google.com/github/manishmcsa/Assignment-8--S8/blob/main/config.ipynb\" target=\"_parent\"><img src=\"https://colab.research.google.com/assets/colab-badge.svg\" alt=\"Open In Colab\"/></a>"
      ]
    },
    {
      "cell_type": "code",
      "metadata": {
        "id": "rrobuLM-zPZ9"
      },
      "source": [
        "import pprint"
      ],
      "execution_count": null,
      "outputs": []
    },
    {
      "cell_type": "code",
      "metadata": {
        "id": "yoZLYdbczTYY"
      },
      "source": [
        "class ModelConfig(object):\r\n",
        "\r\n",
        "\tdef __init__(self,):\r\n",
        "\t\tsuper(ModelConfig, self).__init__()\r\n",
        "\t\tself.seed = 1\r\n",
        "\t\tself.batch_size_cuda = 64\r\n",
        "\t\tself.batch_size_cpu = 64\t\r\n",
        "\t\tself.num_workers = 4\r\n",
        "\t\tself.epochs = 50\r\n",
        "\t\tself.dropout_value = 0.15\r\n",
        "\r\n",
        "\tdef print_config(self):\r\n",
        "\t\tprint(\"Model Parameters:\")\r\n",
        "\t\tpprint.pprint(vars(self), indent=2)"
      ],
      "execution_count": null,
      "outputs": []
    }
  ]
}