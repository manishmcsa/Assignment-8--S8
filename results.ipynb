{
  "nbformat": 4,
  "nbformat_minor": 0,
  "metadata": {
    "colab": {
      "name": "results.ipynb",
      "provenance": [],
      "collapsed_sections": [],
      "authorship_tag": "ABX9TyPMww6zOSCSqCf031xvvVl/",
      "include_colab_link": true
    },
    "kernelspec": {
      "name": "python3",
      "display_name": "Python 3"
    }
  },
  "cells": [
    {
      "cell_type": "markdown",
      "metadata": {
        "id": "view-in-github",
        "colab_type": "text"
      },
      "source": [
        "<a href=\"https://colab.research.google.com/github/manishmcsa/Assignment-8--S8/blob/main/results.ipynb\" target=\"_parent\"><img src=\"https://colab.research.google.com/assets/colab-badge.svg\" alt=\"Open In Colab\"/></a>"
      ]
    },
    {
      "cell_type": "code",
      "metadata": {
        "id": "HJYZrFHl8VJ2"
      },
      "source": [
        "import matplotlib.pyplot as plt\r\n",
        "import numpy as np"
      ],
      "execution_count": null,
      "outputs": []
    },
    {
      "cell_type": "code",
      "metadata": {
        "id": "dvZOAjNF8YKE"
      },
      "source": [
        "def plot_misclassified_images(img_data, classes, img_name):\r\n",
        "  figure = plt.figure(figsize=(10, 10))\r\n",
        "  num_of_images = len(img_data)\r\n",
        "  for index in range(1, num_of_images + 1):\r\n",
        "    img = img_data[index-1][\"img\"] / 2 + 0.5     # unnormalize\r\n",
        "    plt.subplot(5, 5, index)\r\n",
        "    plt.axis('off')\r\n",
        "    plt.imshow(np.transpose(img, (1, 2, 0)))\r\n",
        "    plt.title(\"Predicted: %s\\nActual: %s\" % (classes[img_data[index-1][\"pred\"]], classes[img_data[index-1][\"target\"]]))\r\n",
        "  plt.tight_layout()\r\n",
        "  plt.savefig(img_name)"
      ],
      "execution_count": null,
      "outputs": []
    },
    {
      "cell_type": "code",
      "metadata": {
        "id": "mQK2-cMG8bIf"
      },
      "source": [
        "def plot_graph(data, metric):\r\n",
        "    fig = plt.figure(figsize=(7, 7))\r\n",
        "    \r\n",
        "    plt.title(f'Validation %s' % (metric))\r\n",
        "    plt.xlabel('Epoch')\r\n",
        "    plt.ylabel(metric)\r\n",
        "    plt.plot(data)\r\n",
        "    plt.show()\r\n",
        "    \r\n",
        "    fig.savefig(f'val_%s_change.png' % (metric.lower()))    "
      ],
      "execution_count": null,
      "outputs": []
    }
  ]
}