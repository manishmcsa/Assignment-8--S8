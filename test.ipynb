{
  "nbformat": 4,
  "nbformat_minor": 0,
  "metadata": {
    "colab": {
      "name": "test.ipynb",
      "provenance": [],
      "collapsed_sections": [],
      "authorship_tag": "ABX9TyPjnzBeQUtHpB7D76eDMZWh",
      "include_colab_link": true
    },
    "kernelspec": {
      "name": "python3",
      "display_name": "Python 3"
    }
  },
  "cells": [
    {
      "cell_type": "markdown",
      "metadata": {
        "id": "view-in-github",
        "colab_type": "text"
      },
      "source": [
        "<a href=\"https://colab.research.google.com/github/manishmcsa/Assignment-8--S8/blob/main/test.ipynb\" target=\"_parent\"><img src=\"https://colab.research.google.com/assets/colab-badge.svg\" alt=\"Open In Colab\"/></a>"
      ]
    },
    {
      "cell_type": "code",
      "metadata": {
        "id": "q5eAZF-S5BTs"
      },
      "source": [
        "import torch"
      ],
      "execution_count": null,
      "outputs": []
    },
    {
      "cell_type": "code",
      "metadata": {
        "id": "LXOkoevs5FPh"
      },
      "source": [
        "def test(model, device, test_loader, criterion, classes, test_losses, test_accs, misclassified_imgs, is_last_epoch):\r\n",
        "    model.eval()\r\n",
        "    test_loss = 0\r\n",
        "    correct = 0\r\n",
        "    with torch.no_grad():\r\n",
        "        for data, target in test_loader:\r\n",
        "            data, target = data.to(device), target.to(device)\r\n",
        "            output = model(data)\r\n",
        "            test_loss +=criterion(output, target).item()  # sum up batch loss\r\n",
        "            pred = output.argmax(dim=1, keepdim=True)  # get the index of the max log-probability\r\n",
        "            is_correct = pred.eq(target.view_as(pred))\r\n",
        "            if is_last_epoch:\r\n",
        "              misclassified_inds = (is_correct==0).nonzero()[:,0]\r\n",
        "              for mis_ind in misclassified_inds:\r\n",
        "                if len(misclassified_imgs) == 25:\r\n",
        "                  break\r\n",
        "                misclassified_imgs.append({\r\n",
        "                    \"target\": target[mis_ind].cpu().numpy(),\r\n",
        "                    \"pred\": pred[mis_ind][0].cpu().numpy(),\r\n",
        "                    \"img\": data[mis_ind].cpu().numpy()\r\n",
        "                })\r\n",
        "            correct += is_correct.sum().item()\r\n",
        "\r\n",
        "    test_loss /= len(test_loader.dataset)\r\n",
        "    test_losses.append(test_loss)\r\n",
        "    \r\n",
        "    test_acc = 100. * correct / len(test_loader.dataset)\r\n",
        "    test_accs.append(test_acc)\r\n",
        "\r\n",
        "    if test_acc > 85.0:\r\n",
        "        classwise_acc(model, device, test_loader, classes)\r\n",
        "\r\n",
        "    print('Test set: Average loss: {:.4f}, Accuracy: {}/{} ({:.2f}%)\\n'.format(\r\n",
        "        test_loss, correct, len(test_loader.dataset), test_acc))\r\n",
        "\r\n",
        "def classwise_acc(model, device, test_loader, classes):\r\n",
        "    class_correct = list(0. for i in range(10))\r\n",
        "    class_total = list(0. for i in range(10))\r\n",
        "    with torch.no_grad():\r\n",
        "        for images, labels in test_loader:\r\n",
        "            images, labels = images.to(device), labels.to(device)\r\n",
        "            outputs = model(images)\r\n",
        "            _, predicted = torch.max(outputs, 1)\r\n",
        "            c = (predicted == labels).squeeze()\r\n",
        "            for i in range(4):\r\n",
        "                label = labels[i]\r\n",
        "                class_correct[label] += c[i].item()\r\n",
        "                class_total[label] += 1\r\n",
        "    \r\n",
        "    # print class-wise test accuracies\r\n",
        "    print()\r\n",
        "    for i in range(10):\r\n",
        "      print('Accuracy of %5s : %2d %%' % (\r\n",
        "          classes[i], 100 * class_correct[i] / class_total[i]))\r\n",
        "    print()"
      ],
      "execution_count": null,
      "outputs": []
    }
  ]
}