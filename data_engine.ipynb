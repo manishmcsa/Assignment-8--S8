{
  "nbformat": 4,
  "nbformat_minor": 0,
  "metadata": {
    "colab": {
      "name": "data_engine.ipynb",
      "provenance": [],
      "collapsed_sections": [],
      "authorship_tag": "ABX9TyPGjWdVJTldvk7pHZogJ0qz",
      "include_colab_link": true
    },
    "kernelspec": {
      "name": "python3",
      "display_name": "Python 3"
    }
  },
  "cells": [
    {
      "cell_type": "markdown",
      "metadata": {
        "id": "view-in-github",
        "colab_type": "text"
      },
      "source": [
        "<a href=\"https://colab.research.google.com/github/manishmcsa/Assignment-8--S8/blob/main/data_engine.ipynb\" target=\"_parent\"><img src=\"https://colab.research.google.com/assets/colab-badge.svg\" alt=\"Open In Colab\"/></a>"
      ]
    },
    {
      "cell_type": "code",
      "metadata": {
        "colab": {
          "base_uri": "https://localhost:8080/"
        },
        "id": "NnD0JaT_yvh1",
        "outputId": "c6617ffe-2e67-42c0-a767-537aa0a128b6"
      },
      "source": [
        "from google.colab import drive\r\n",
        "drive.mount('/content/drive')"
      ],
      "execution_count": null,
      "outputs": [
        {
          "output_type": "stream",
          "text": [
            "Mounted at /content/drive\n"
          ],
          "name": "stdout"
        }
      ]
    },
    {
      "cell_type": "code",
      "metadata": {
        "colab": {
          "base_uri": "https://localhost:8080/"
        },
        "id": "nqeU0hdd71Qp",
        "outputId": "83ab9b14-f820-4dca-f8d0-3b983b91f07b"
      },
      "source": [
        "%cd \"/content/drive/MyDrive/Assigment6\""
      ],
      "execution_count": null,
      "outputs": [
        {
          "output_type": "stream",
          "text": [
            "/content/drive/MyDrive/Assigment6\n"
          ],
          "name": "stdout"
        }
      ]
    },
    {
      "cell_type": "code",
      "metadata": {
        "id": "IMqjhvU87spj"
      },
      "source": [
        "import torch\r\n",
        "import torchvision\r\n",
        "import torchvision.transforms as transforms\r\n",
        "import torch\r\n",
        "import torchvision\r\n",
        "import torchvision.transforms as transforms\r\n",
        "\r\n",
        "from config import ModelConfig as args\r\n",
        "from utils import has_cuda"
      ],
      "execution_count": null,
      "outputs": []
    },
    {
      "cell_type": "code",
      "metadata": {
        "id": "Ps3wbjAky4eN"
      },
      "source": [
        "class DataEngine(object):\r\n",
        "\r\n",
        "\tclasses = ('plane', 'car', 'bird', 'cat', 'deer', 'dog',\r\n",
        "\t\t\t'frog', 'horse', 'ship', 'truck')\r\n",
        "\r\n",
        "\tdef __init__(self, args):\r\n",
        "\t\tsuper(DataEngine, self).__init__()\r\n",
        "\t\tself.batch_size_cuda = args.batch_size_cuda\r\n",
        "\t\tself.batch_size_cpu = args.batch_size_cpu\r\n",
        "\t\tself.num_workers = args.num_workers\r\n",
        "\t\tself.load()\r\n",
        "\r\n",
        "\tdef load(self):\r\n",
        "\t\t# Data Transformations\r\n",
        "\t\ttransform = transforms.Compose(\r\n",
        "\t\t    [transforms.RandomHorizontalFlip(),\r\n",
        "\t\t     transforms.ToTensor(),\r\n",
        "\t\t     transforms.Normalize((0.5, 0.5, 0.5), (0.5, 0.5, 0.5))])\r\n",
        "\r\n",
        "\t\t# Dataset and Creating Train/Test Split\r\n",
        "\t\ttrain_set = torchvision.datasets.CIFAR10(root='./data', train=True,\r\n",
        "\t\t                                        download=True, transform=transform)\r\n",
        "\t\ttest_set = torchvision.datasets.CIFAR10(root='./data', train=False,\r\n",
        "\t\t                                       download=True, transform=transform)\r\n",
        "\r\n",
        "\t\t# Dataloader Arguments & Test/Train Dataloaders\r\n",
        "\t\tdataloader_args = dict(\r\n",
        "\t\t\tshuffle= True,\r\n",
        "\t\t\tbatch_size= self.batch_size_cuda,\r\n",
        "\t\t\tnum_workers= self.num_workers,\r\n",
        "\t\t\tpin_memory= True) if has_cuda() else dict(\r\n",
        "\t\t\tshuffle= True,\r\n",
        "\t\t\tbatch_size= self.batch_size_cpu)\r\n",
        "\r\n",
        "\t\tself.train_loader = torch.utils.data.DataLoader(train_set, **dataloader_args)\r\n",
        "\t\tself.test_loader = torch.utils.data.DataLoader(test_set, **dataloader_args)"
      ],
      "execution_count": null,
      "outputs": []
    }
  ]
}