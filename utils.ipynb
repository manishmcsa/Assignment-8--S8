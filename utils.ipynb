{
  "nbformat": 4,
  "nbformat_minor": 0,
  "metadata": {
    "colab": {
      "name": "utils.ipynb",
      "provenance": [],
      "collapsed_sections": [],
      "authorship_tag": "ABX9TyPICWF1HG3Umyf9Abn/KSA+",
      "include_colab_link": true
    },
    "kernelspec": {
      "name": "python3",
      "display_name": "Python 3"
    }
  },
  "cells": [
    {
      "cell_type": "markdown",
      "metadata": {
        "id": "view-in-github",
        "colab_type": "text"
      },
      "source": [
        "<a href=\"https://colab.research.google.com/github/manishmcsa/Assignment-8--S8/blob/main/utils.ipynb\" target=\"_parent\"><img src=\"https://colab.research.google.com/assets/colab-badge.svg\" alt=\"Open In Colab\"/></a>"
      ]
    },
    {
      "cell_type": "code",
      "metadata": {
        "id": "nMHwCFrczHJI"
      },
      "source": [
        "import torch\r\n",
        "from torchsummary import summary\r\n",
        "import matplotlib.pyplot as plt\r\n",
        "import numpy as np"
      ],
      "execution_count": null,
      "outputs": []
    },
    {
      "cell_type": "code",
      "metadata": {
        "id": "MQhKzqtIzu5I"
      },
      "source": [
        "def has_cuda():\r\n",
        "\treturn torch.cuda.is_available()\r\n",
        "\r\n",
        "def which_device():\r\n",
        "\treturn torch.device(\"cuda\" if has_cuda() else \"cpu\")\r\n",
        "\r\n",
        "def init_seed(args):\r\n",
        "\ttorch.manual_seed(args.seed)\r\n",
        "\r\n",
        "\tif has_cuda():\r\n",
        "\t    print(\"CUDA Available\")\r\n",
        "\t    torch.cuda.manual_seed(args.seed)\r\n",
        "\r\n",
        "def show_model_summary(model, device, input_size):\r\n",
        "    print(summary(model, input_size=input_size))\r\n",
        "\r\n",
        "def imshow(img):\r\n",
        "    img = img / 2 + 0.5     # unnormalize\r\n",
        "    npimg = img.numpy()\r\n",
        "    plt.imshow(np.transpose(npimg, (1, 2, 0)))"
      ],
      "execution_count": null,
      "outputs": []
    }
  ]
}